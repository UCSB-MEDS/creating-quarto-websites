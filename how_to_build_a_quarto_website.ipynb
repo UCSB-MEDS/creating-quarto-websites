{
  "cells": [
    {
      "cell_type": "raw",
      "metadata": {},
      "source": [
        "---\n",
        "title: \"Creating your personal website using Quarto\"\n",
        "author: Sam Csik\n",
        "date: August 5, 2022\n",
        "format: html\n",
        "editor: visual\n",
        "---"
      ],
      "id": "773d08e1"
    },
    {
      "cell_type": "markdown",
      "metadata": {},
      "source": [
        "## What is Quarto?\n",
        "\n",
        "[Quarto](https://quarto.org/) is a publishing system built on Pandoc that allows users to create dynamic content using R, Python, Julia, and ObservableJS (with plans to add more languages too!).\n",
        "\n",
        "Inspired by RMarkdown, Quarto is next-gen RMarkdown which extends all the best features to more languages.\n",
        "\n",
        "Allows you to create documents, websites, blogs, books, slides, etc.\n",
        "\n",
        "This instructional document was built using Quarto!\n",
        "\n",
        "## Getting Started\n",
        "\n",
        "We'll review 2 ways to get started with your website.\n",
        "\n",
        "a. Through the command line\n",
        "b. Using RStudio IDE\n",
        "\n",
        "### a. Using the command line\n",
        "\n",
        "Benefits: Get's you working on the command line; if you decide to use Quarto for another language, this is a more universal way of doing it.\n",
        "\n",
        "```{bash}\n",
        "#| eval: false\n",
        "quarto create-project mysite --type website\n",
        "```\n",
        "\n",
        "### b. Using the RStudio IDE\n",
        "\n",
        "Benefits: It's super easy! Just like setting up a new project\n",
        "\n",
        "1. Open up RStudio and click on the <img src=\"media/stop.png\" alt=\"A blue cube symbol with 'R' in the center is on the left. To the right are the words 'Project: (None)' in white, with a downward facing arrow, signifying a drop down menu\" style=\"display: inline-block; margin: 0; position: relative; top: 3px; width:15px;height:15px;\"/> button in the top right corner. Select **New Project...**\n"
      ],
      "id": "05a94e4b"
    }
  ],
  "metadata": {
    "kernelspec": {
      "display_name": "Python 3",
      "language": "python",
      "name": "python3"
    }
  },
  "nbformat": 4,
  "nbformat_minor": 5
}